{
 "cells": [
  {
   "cell_type": "code",
   "execution_count": 2,
   "metadata": {},
   "outputs": [
    {
     "name": "stderr",
     "output_type": "stream",
     "text": [
      "c:\\Programs\\playwright-learning\\venv\\lib\\site-packages\\fuzzywuzzy\\fuzz.py:11: UserWarning: Using slow pure-python SequenceMatcher. Install python-Levenshtein to remove this warning\n",
      "  warnings.warn('Using slow pure-python SequenceMatcher. Install python-Levenshtein to remove this warning')\n"
     ]
    }
   ],
   "source": [
    "import pandas as pd\n",
    "from fuzzywuzzy import fuzz\n",
    "from multiprocessing import Pool"
   ]
  },
  {
   "cell_type": "code",
   "execution_count": 3,
   "metadata": {},
   "outputs": [
    {
     "data": {
      "text/html": [
       "<div>\n",
       "<style scoped>\n",
       "    .dataframe tbody tr th:only-of-type {\n",
       "        vertical-align: middle;\n",
       "    }\n",
       "\n",
       "    .dataframe tbody tr th {\n",
       "        vertical-align: top;\n",
       "    }\n",
       "\n",
       "    .dataframe thead th {\n",
       "        text-align: right;\n",
       "    }\n",
       "</style>\n",
       "<table border=\"1\" class=\"dataframe\">\n",
       "  <thead>\n",
       "    <tr style=\"text-align: right;\">\n",
       "      <th></th>\n",
       "      <th>conm</th>\n",
       "      <th>gvkey</th>\n",
       "      <th>tic</th>\n",
       "      <th>cik</th>\n",
       "      <th>cusip</th>\n",
       "    </tr>\n",
       "  </thead>\n",
       "  <tbody>\n",
       "    <tr>\n",
       "      <th>0</th>\n",
       "      <td>AAR CORP</td>\n",
       "      <td>1004</td>\n",
       "      <td>AIR</td>\n",
       "      <td>1750.0</td>\n",
       "      <td>000361105</td>\n",
       "    </tr>\n",
       "    <tr>\n",
       "      <th>1</th>\n",
       "      <td>ADC TELECOMMUNICATIONS INC</td>\n",
       "      <td>1013</td>\n",
       "      <td>ADCT.1</td>\n",
       "      <td>61478.0</td>\n",
       "      <td>000886309</td>\n",
       "    </tr>\n",
       "  </tbody>\n",
       "</table>\n",
       "</div>"
      ],
      "text/plain": [
       "                         conm  gvkey     tic      cik      cusip\n",
       "0                    AAR CORP   1004     AIR   1750.0  000361105\n",
       "1  ADC TELECOMMUNICATIONS INC   1013  ADCT.1  61478.0  000886309"
      ]
     },
     "execution_count": 3,
     "metadata": {},
     "output_type": "execute_result"
    }
   ],
   "source": [
    "actual_data = pd.read_csv('glassdoordata.csv',sep='\\t')\n",
    "actual_data.head(2)"
   ]
  },
  {
   "cell_type": "code",
   "execution_count": 4,
   "metadata": {},
   "outputs": [
    {
     "data": {
      "text/html": [
       "<div>\n",
       "<style scoped>\n",
       "    .dataframe tbody tr th:only-of-type {\n",
       "        vertical-align: middle;\n",
       "    }\n",
       "\n",
       "    .dataframe tbody tr th {\n",
       "        vertical-align: top;\n",
       "    }\n",
       "\n",
       "    .dataframe thead th {\n",
       "        text-align: right;\n",
       "    }\n",
       "</style>\n",
       "<table border=\"1\" class=\"dataframe\">\n",
       "  <thead>\n",
       "    <tr style=\"text-align: right;\">\n",
       "      <th></th>\n",
       "      <th>CompanyID</th>\n",
       "      <th>CompanyName</th>\n",
       "      <th>CompanySize</th>\n",
       "    </tr>\n",
       "  </thead>\n",
       "  <tbody>\n",
       "    <tr>\n",
       "      <th>0</th>\n",
       "      <td>740850</td>\n",
       "      <td>TESLA</td>\n",
       "      <td>{\"filterType\": \"EMPLOYEES_COUNT\", \"minInclusiv...</td>\n",
       "    </tr>\n",
       "    <tr>\n",
       "      <th>1</th>\n",
       "      <td>2099435</td>\n",
       "      <td>Courtyard</td>\n",
       "      <td>{\"filterType\": \"EMPLOYEES_COUNT\", \"minInclusiv...</td>\n",
       "    </tr>\n",
       "  </tbody>\n",
       "</table>\n",
       "</div>"
      ],
      "text/plain": [
       "   CompanyID CompanyName                                        CompanySize\n",
       "0     740850       TESLA  {\"filterType\": \"EMPLOYEES_COUNT\", \"minInclusiv...\n",
       "1    2099435   Courtyard  {\"filterType\": \"EMPLOYEES_COUNT\", \"minInclusiv..."
      ]
     },
     "execution_count": 4,
     "metadata": {},
     "output_type": "execute_result"
    }
   ],
   "source": [
    "glassdoor_data = pd.read_excel('./backup/unique-data-glassdoor-companies-list.xlsx')\n",
    "glassdoor_data.head(2)"
   ]
  },
  {
   "cell_type": "code",
   "execution_count": 5,
   "metadata": {},
   "outputs": [],
   "source": [
    "\n",
    "\n",
    "def calculate_similarity(args):\n",
    "    name1, gvkey, tic, cik, cusip, row2 = args\n",
    "    return (name1, gvkey, tic, cik, cusip, row2['CompanyName'], row2['CompanyID'], fuzz.ratio(name1, row2['CompanyName']))\n",
    "\n",
    "# Create an empty list to store mapping results\n",
    "mapped_companies = []\n",
    "\n",
    "# Define a function to calculate similarity for a row in df1\n",
    "def calculate_similarity_for_row(row1, df2):\n",
    "    pool_args = [(row1['conm'], row1['gvkey'], row1['tic'], row1['cik'], row1['cusip'], row2) for _, row2 in df2.iterrows()]\n",
    "    with Pool() as pool:\n",
    "        results = pool.map(calculate_similarity, pool_args)\n",
    "    return results\n",
    "\n",
    "# Iterate through the rows in df1 and find the best match in df2\n",
    "for _, row1 in actual_data.iterrows():\n",
    "    results = calculate_similarity_for_row(row1, glassdoor_data)\n",
    "    best_match = max(results, key=lambda x: x[2], default=(row1['conm'], row1['gvkey'], row1['tic'], row1['cik'], row1['cusip'], row2['CompanyID'], 'Not Found', 0))\n",
    "    print(best_match)\n",
    "    # You can set a threshold score to consider a match or adjust it as needed\n",
    "    if best_match[2] >= 80:\n",
    "        mapped_companies.append(best_match)\n",
    "    else:\n",
    "        mapped_companies.append((row1['conm'], row1['gvkey'], row1['tic'], row1['cik'], row1['cusip'], 'Not Found', 0))\n",
    "\n",
    "mapped_df = pd.DataFrame(mapped_companies, columns=['conm', 'gvkey', 'tic', 'cik', 'cusip', 'CompanyName', 'CompanyID' 'SimilarityScore'])\n"
   ]
  },
  {
   "cell_type": "code",
   "execution_count": null,
   "metadata": {},
   "outputs": [],
   "source": [
    "print(mapped_companies)"
   ]
  }
 ],
 "metadata": {
  "kernelspec": {
   "display_name": "venv",
   "language": "python",
   "name": "python3"
  },
  "language_info": {
   "codemirror_mode": {
    "name": "ipython",
    "version": 3
   },
   "file_extension": ".py",
   "mimetype": "text/x-python",
   "name": "python",
   "nbconvert_exporter": "python",
   "pygments_lexer": "ipython3",
   "version": "3.8.10"
  }
 },
 "nbformat": 4,
 "nbformat_minor": 2
}
